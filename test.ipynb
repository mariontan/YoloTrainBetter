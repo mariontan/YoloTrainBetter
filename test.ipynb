{
 "cells": [
  {
   "cell_type": "code",
   "execution_count": null,
   "metadata": {},
   "outputs": [
    {
     "name": "stdout",
     "output_type": "stream",
     "text": [
      "{'batch_size': 6, 'model_def': 'D:/Ivan/Test_data/IvanMadeDataSet/Yolo_front/config/yolov3_832.cfg', 'data_config': 'D:/Ivan/Test_data/IvanMadeDataSet/Yolo_front_test/config/coco.data', 'weights_path': 'D:/Ivan/YoloCheckpoints/OID_front_1_832/70.weights', 'class_path': 'D:/Ivan/Test_data/IvanMadeDataSet/Yolo_front/config/coco.names', 'iou_thres': 0.5, 'conf_thres': 0.8, 'nms_thres': 0.5, 'n_cpu': 2, 'img_size': 832}\n",
      "Compute mAP...\n"
     ]
    },
    {
     "name": "stderr",
     "output_type": "stream",
     "text": [
      "Detecting objects:   4%|██▎                                                            | 5/135 [00:06<02:50,  1.31s/it]"
     ]
    }
   ],
   "source": [
    "from __future__ import division\n",
    "\n",
    "from models import *\n",
    "from utils.utils import *\n",
    "from utils.datasets import *\n",
    "from utils.parse_config import *\n",
    "\n",
    "import os\n",
    "import sys\n",
    "import time\n",
    "import datetime\n",
    "import argparse\n",
    "import tqdm\n",
    "import easydict\n",
    "\n",
    "import torch\n",
    "from torch.utils.data import DataLoader\n",
    "from torchvision import datasets\n",
    "from torchvision import transforms\n",
    "from torch.autograd import Variable\n",
    "import torch.optim as optim\n",
    "\n",
    "\n",
    "def evaluate(model, path, iou_thres, conf_thres, nms_thres, img_size, batch_size):\n",
    "    model.eval()\n",
    "\n",
    "    # Get dataloader\n",
    "    dataset = ListDataset(path, img_size=img_size, augment=False, multiscale=False)\n",
    "    dataloader = torch.utils.data.DataLoader(\n",
    "        dataset, batch_size=batch_size, shuffle=False, num_workers=1, collate_fn=dataset.collate_fn\n",
    "    )\n",
    "\n",
    "    Tensor = torch.cuda.FloatTensor if torch.cuda.is_available() else torch.FloatTensor\n",
    "\n",
    "    labels = []\n",
    "    sample_metrics = []  # List of tuples (TP, confs, pred)\n",
    "    for batch_i, (_, imgs, targets) in enumerate(tqdm.tqdm(dataloader, desc=\"Detecting objects\")):\n",
    "\n",
    "        # Extract labels\n",
    "        labels += targets[:, 1].tolist()\n",
    "        # Rescale target\n",
    "        targets[:, 2:] = xywh2xyxy(targets[:, 2:])\n",
    "        targets[:, 2:] *= img_size\n",
    "\n",
    "        imgs = Variable(imgs.type(Tensor), requires_grad=False)\n",
    "\n",
    "        with torch.no_grad():\n",
    "            outputs = model(imgs)\n",
    "            outputs = non_max_suppression(outputs, conf_thres=conf_thres, nms_thres=nms_thres)\n",
    "\n",
    "        sample_metrics += get_batch_statistics(outputs, targets, iou_threshold=iou_thres)\n",
    "\n",
    "    # Concatenate sample statistics\n",
    "    true_positives, pred_scores, pred_labels = [np.concatenate(x, 0) for x in list(zip(*sample_metrics))]\n",
    "    precision, recall, AP, f1, ap_class = ap_per_class(true_positives, pred_scores, pred_labels, labels)\n",
    "\n",
    "    return precision, recall, AP, f1, ap_class\n",
    "\n",
    "\n",
    "if __name__ == \"__main__\":\n",
    "    parser = argparse.ArgumentParser()\n",
    "    args = parser.parse_args(args=[])\n",
    "#     parser.add_argument(\"--batch_size\", type=int, default=8, help=\"size of each image batch\")\n",
    "#     parser.add_argument(\"--model_def\", type=str, default=\"config/yolov3.cfg\", help=\"path to model definition file\")\n",
    "#     parser.add_argument(\"--data_config\", type=str, default=\"config/coco.data\", help=\"path to data config file\")\n",
    "#     parser.add_argument(\"--weights_path\", type=str, default=\"weights/yolov3.weights\", help=\"path to weights file\")\n",
    "#     parser.add_argument(\"--class_path\", type=str, default=\"data/coco.names\", help=\"path to class label file\")\n",
    "#     parser.add_argument(\"--iou_thres\", type=float, default=0.5, help=\"iou threshold required to qualify as detected\")\n",
    "#     parser.add_argument(\"--conf_thres\", type=float, default=0.001, help=\"object confidence threshold\")\n",
    "#     parser.add_argument(\"--nms_thres\", type=float, default=0.5, help=\"iou thresshold for non-maximum suppression\")\n",
    "#     parser.add_argument(\"--n_cpu\", type=int, default=8, help=\"number of cpu threads to use during batch generation\")\n",
    "#     parser.add_argument(\"--img_size\", type=int, default=416, help=\"size of each image dimension\")\n",
    "#     opt = parser.parse_args()\n",
    "    args = easydict.EasyDict({\n",
    "        \"batch_size\": 6,\n",
    "        \"model_def\":r'D:/Ivan/Test_data/IvanMadeDataSet/Yolo_front/config/yolov3_832.cfg',\n",
    "        \"data_config\":r'D:/Ivan/Test_data/IvanMadeDataSet/Yolo_front_test/config/coco.data',\n",
    "        \"weights_path\":r'D:/Ivan/YoloCheckpoints/OID_front_1_832/70.weights',\n",
    "        \"class_path\": r'D:/Ivan/Test_data/IvanMadeDataSet/Yolo_front/config/coco.names',\n",
    "        \"iou_thres\": 0.5,\n",
    "        \"conf_thres\":0.8,\n",
    "        \"nms_thres\": 0.5,\n",
    "        \"n_cpu\": 2,\n",
    "        \"img_size\": 832\n",
    "    })\n",
    "    opt = args\n",
    "    print(opt)\n",
    "\n",
    "    device = torch.device(\"cuda\" if torch.cuda.is_available() else \"cpu\")\n",
    "######## make a new data set\n",
    "    data_config = parse_data_config(opt.data_config)\n",
    "    valid_path = data_config[\"test\"]\n",
    "#     class_names = load_classes(data_config[\"names\"])\n",
    "    class_names= load_classes(opt.class_path)\n",
    "\n",
    "    # Initiate model\n",
    "    model = Darknet(opt.model_def).to(device)\n",
    "    if opt.weights_path.endswith(\".weights\"):\n",
    "        # Load darknet weights\n",
    "        model.load_darknet_weights(opt.weights_path)\n",
    "    else:\n",
    "        # Load checkpoint weights\n",
    "        model.load_state_dict(torch.load(opt.weights_path))\n",
    "\n",
    "    print(\"Compute mAP...\")\n",
    "\n",
    "    precision, recall, AP, f1, ap_class = evaluate(\n",
    "        model,\n",
    "        path=valid_path,\n",
    "        iou_thres=opt.iou_thres,\n",
    "        conf_thres=opt.conf_thres,\n",
    "        nms_thres=opt.nms_thres,\n",
    "        img_size=opt.img_size,\n",
    "        batch_size=opt.batch_size,\n",
    "    )\n",
    "\n",
    "    print(\"Average Precisions:\")\n",
    "    for i, c in enumerate(ap_class):\n",
    "        print(f\"+ Class '{c}' ({class_names[c]}) - AP: {AP[i]}\")\n",
    "\n",
    "    print(f\"mAP: {AP.mean()}\")\n",
    "    print(f\"precision: {precision}\")\n",
    "    print(f\"recall: {recall} \")\n",
    "    print(f\"precision: {precision.mean()}\")\n",
    "    print(f\"recall: {recall.mean()} \")\n"
   ]
  },
  {
   "cell_type": "code",
   "execution_count": 6,
   "metadata": {},
   "outputs": [
    {
     "name": "stdout",
     "output_type": "stream",
     "text": [
      "D:/Ivan/YoloCheckpoints/OID_front_1_832/70.weights\n"
     ]
    }
   ],
   "source": [
    "print('D:/Ivan/YoloCheckpoints/OID_front_1_832/'+str(70)+'.weights')"
   ]
  },
  {
   "cell_type": "code",
   "execution_count": null,
   "metadata": {},
   "outputs": [
    {
     "name": "stdout",
     "output_type": "stream",
     "text": [
      "{'batch_size': 6, 'model_def': 'D:/Ivan/Test_data/IvanMadeDataSet/Yolo_front/config/yolov3_832.cfg', 'data_config': 'D:/Ivan/Test_data/IvanMadeDataSet/Yolo_front_test/config/coco.data', 'weights_path': 'D:/Ivan/YoloCheckpoints/OID_front_1_832/70.weights', 'class_path': 'D:/Ivan/Test_data/IvanMadeDataSet/Yolo_front/config/coco.names', 'iou_thres': 0.5, 'conf_thres': 0.998, 'nms_thres': 0.5, 'n_cpu': 2, 'img_size': 832}\n",
      "40\n",
      "Compute mAP...\n"
     ]
    },
    {
     "name": "stderr",
     "output_type": "stream",
     "text": [
      "Detecting objects: 100%|█████████████████████████████████████████████████████████████| 135/135 [00:50<00:00,  2.69it/s]\n",
      "Computing AP: 100%|█████████████████████████████████████████████████████████████████████| 1/1 [00:00<00:00, 500.39it/s]\n"
     ]
    },
    {
     "name": "stdout",
     "output_type": "stream",
     "text": [
      "Average Precisions:\n",
      "+ Class '0' (cars) - AP: 0.010559979998314407\n",
      "mAP: 0.010559979998314407\n",
      "precision: 0.11900532859680284\n",
      "recall: 0.07135250266240682 \n",
      "41\n",
      "Compute mAP...\n"
     ]
    },
    {
     "name": "stderr",
     "output_type": "stream",
     "text": [
      "Detecting objects: 100%|█████████████████████████████████████████████████████████████| 135/135 [00:56<00:00,  2.39it/s]\n",
      "Computing AP: 100%|██████████████████████████████████████████████████████████████████████| 1/1 [00:00<00:00, 27.78it/s]\n"
     ]
    },
    {
     "name": "stdout",
     "output_type": "stream",
     "text": [
      "Average Precisions:\n",
      "+ Class '0' (cars) - AP: 0.00899891639716208\n",
      "mAP: 0.00899891639716208\n",
      "precision: 0.022274498272439904\n",
      "recall: 0.3226837060702875 \n",
      "42\n",
      "Compute mAP...\n"
     ]
    },
    {
     "name": "stderr",
     "output_type": "stream",
     "text": [
      "Detecting objects: 100%|█████████████████████████████████████████████████████████████| 135/135 [00:50<00:00,  2.70it/s]\n",
      "Computing AP: 100%|█████████████████████████████████████████████████████████████████████| 1/1 [00:00<00:00, 500.27it/s]\n"
     ]
    },
    {
     "name": "stdout",
     "output_type": "stream",
     "text": [
      "Average Precisions:\n",
      "+ Class '0' (cars) - AP: 0.005385607910908747\n",
      "mAP: 0.005385607910908747\n",
      "precision: 0.09784735812133072\n",
      "recall: 0.05324813631522897 \n",
      "43\n",
      "Compute mAP...\n"
     ]
    },
    {
     "name": "stderr",
     "output_type": "stream",
     "text": [
      "Detecting objects: 100%|█████████████████████████████████████████████████████████████| 135/135 [00:49<00:00,  2.70it/s]\n",
      "Computing AP: 100%|█████████████████████████████████████████████████████████████████████| 1/1 [00:00<00:00, 333.07it/s]\n"
     ]
    },
    {
     "name": "stdout",
     "output_type": "stream",
     "text": [
      "Average Precisions:\n",
      "+ Class '0' (cars) - AP: 0.002904987193549255\n",
      "mAP: 0.002904987193549255\n",
      "precision: 0.049723756906077346\n",
      "recall: 0.05750798722044728 \n",
      "44\n",
      "Compute mAP...\n"
     ]
    },
    {
     "name": "stderr",
     "output_type": "stream",
     "text": [
      "Detecting objects: 100%|█████████████████████████████████████████████████████████████| 135/135 [00:50<00:00,  2.69it/s]\n",
      "Computing AP: 100%|█████████████████████████████████████████████████████████████████████| 1/1 [00:00<00:00, 166.69it/s]\n"
     ]
    },
    {
     "name": "stdout",
     "output_type": "stream",
     "text": [
      "Average Precisions:\n",
      "+ Class '0' (cars) - AP: 0.006167303112524598\n",
      "mAP: 0.006167303112524598\n",
      "precision: 0.05368790767686904\n",
      "recall: 0.11395101171458999 \n",
      "45\n",
      "Compute mAP...\n"
     ]
    },
    {
     "name": "stderr",
     "output_type": "stream",
     "text": [
      "Detecting objects: 100%|█████████████████████████████████████████████████████████████| 135/135 [00:49<00:00,  2.72it/s]\n",
      "Computing AP: 100%|█████████████████████████████████████████████████████████████████████| 1/1 [00:00<00:00, 248.65it/s]\n"
     ]
    },
    {
     "name": "stdout",
     "output_type": "stream",
     "text": [
      "Average Precisions:\n",
      "+ Class '0' (cars) - AP: 0.008870215858234434\n",
      "mAP: 0.008870215858234434\n",
      "precision: 0.07788390889052167\n",
      "recall: 0.11288604898828541 \n",
      "46\n",
      "Compute mAP...\n"
     ]
    },
    {
     "name": "stderr",
     "output_type": "stream",
     "text": [
      "Detecting objects: 100%|█████████████████████████████████████████████████████████████| 135/135 [00:50<00:00,  2.70it/s]\n",
      "Computing AP: 100%|█████████████████████████████████████████████████████████████████████| 1/1 [00:00<00:00, 166.61it/s]\n"
     ]
    },
    {
     "name": "stdout",
     "output_type": "stream",
     "text": [
      "Average Precisions:\n",
      "+ Class '0' (cars) - AP: 0.016870711242862386\n",
      "mAP: 0.016870711242862386\n",
      "precision: 0.08584905660377358\n",
      "recall: 0.19382321618743345 \n",
      "47\n",
      "Compute mAP...\n"
     ]
    },
    {
     "name": "stderr",
     "output_type": "stream",
     "text": [
      "Detecting objects: 100%|█████████████████████████████████████████████████████████████| 135/135 [00:49<00:00,  2.72it/s]\n",
      "Computing AP: 100%|█████████████████████████████████████████████████████████████████████| 1/1 [00:00<00:00, 200.04it/s]\n"
     ]
    },
    {
     "name": "stdout",
     "output_type": "stream",
     "text": [
      "Average Precisions:\n",
      "+ Class '0' (cars) - AP: 0.014021546026105478\n",
      "mAP: 0.014021546026105478\n",
      "precision: 0.09377093101138648\n",
      "recall: 0.14909478168264112 \n",
      "48\n",
      "Compute mAP...\n"
     ]
    },
    {
     "name": "stderr",
     "output_type": "stream",
     "text": [
      "Detecting objects: 100%|█████████████████████████████████████████████████████████████| 135/135 [00:50<00:00,  2.69it/s]\n",
      "Computing AP: 100%|█████████████████████████████████████████████████████████████████████| 1/1 [00:00<00:00, 200.00it/s]\n"
     ]
    },
    {
     "name": "stdout",
     "output_type": "stream",
     "text": [
      "Average Precisions:\n",
      "+ Class '0' (cars) - AP: 0.002449319775138837\n",
      "mAP: 0.002449319775138837\n",
      "precision: 0.03164835164835165\n",
      "recall: 0.07667731629392971 \n",
      "49\n",
      "Compute mAP...\n"
     ]
    },
    {
     "name": "stderr",
     "output_type": "stream",
     "text": [
      "Detecting objects: 100%|█████████████████████████████████████████████████████████████| 135/135 [00:49<00:00,  2.75it/s]\n",
      "Computing AP: 100%|█████████████████████████████████████████████████████████████████████| 1/1 [00:00<00:00, 500.22it/s]\n"
     ]
    },
    {
     "name": "stdout",
     "output_type": "stream",
     "text": [
      "Average Precisions:\n",
      "+ Class '0' (cars) - AP: 0.016691078010661043\n",
      "mAP: 0.016691078010661043\n",
      "precision: 0.13545816733067728\n",
      "recall: 0.10862619808306709 \n",
      "50\n",
      "Compute mAP...\n"
     ]
    },
    {
     "name": "stderr",
     "output_type": "stream",
     "text": [
      "Detecting objects: 100%|█████████████████████████████████████████████████████████████| 135/135 [00:50<00:00,  2.69it/s]\n",
      "Computing AP: 100%|█████████████████████████████████████████████████████████████████████| 1/1 [00:00<00:00, 166.73it/s]\n"
     ]
    },
    {
     "name": "stdout",
     "output_type": "stream",
     "text": [
      "Average Precisions:\n",
      "+ Class '0' (cars) - AP: 0.017862595901900737\n",
      "mAP: 0.017862595901900737\n",
      "precision: 0.08417935702199661\n",
      "recall: 0.21192758253461128 \n",
      "51\n",
      "Compute mAP...\n"
     ]
    },
    {
     "name": "stderr",
     "output_type": "stream",
     "text": [
      "Detecting objects: 100%|█████████████████████████████████████████████████████████████| 135/135 [00:58<00:00,  2.32it/s]\n",
      "Computing AP: 100%|██████████████████████████████████████████████████████████████████████| 1/1 [00:00<00:00, 23.81it/s]\n"
     ]
    },
    {
     "name": "stdout",
     "output_type": "stream",
     "text": [
      "Average Precisions:\n",
      "+ Class '0' (cars) - AP: 0.009260712626488813\n",
      "mAP: 0.009260712626488813\n",
      "precision: 0.02236304917433429\n",
      "recall: 0.3908413205537806 \n",
      "52\n",
      "Compute mAP...\n"
     ]
    },
    {
     "name": "stderr",
     "output_type": "stream",
     "text": [
      "Detecting objects: 100%|█████████████████████████████████████████████████████████████| 135/135 [00:49<00:00,  2.70it/s]\n",
      "Computing AP: 100%|█████████████████████████████████████████████████████████████████████| 1/1 [00:00<00:00, 250.65it/s]\n"
     ]
    },
    {
     "name": "stdout",
     "output_type": "stream",
     "text": [
      "Average Precisions:\n",
      "+ Class '0' (cars) - AP: 0.009948734537894875\n",
      "mAP: 0.009948734537894875\n",
      "precision: 0.07131192161132281\n",
      "recall: 0.1395101171458999 \n",
      "53\n",
      "Compute mAP...\n"
     ]
    },
    {
     "name": "stderr",
     "output_type": "stream",
     "text": [
      "Detecting objects: 100%|█████████████████████████████████████████████████████████████| 135/135 [00:51<00:00,  2.64it/s]\n",
      "Computing AP: 100%|█████████████████████████████████████████████████████████████████████| 1/1 [00:00<00:00, 111.10it/s]\n"
     ]
    },
    {
     "name": "stdout",
     "output_type": "stream",
     "text": [
      "Average Precisions:\n",
      "+ Class '0' (cars) - AP: 0.016318110287278725\n",
      "mAP: 0.016318110287278725\n",
      "precision: 0.05674300254452926\n",
      "recall: 0.2374866879659212 \n",
      "54\n",
      "Compute mAP...\n"
     ]
    },
    {
     "name": "stderr",
     "output_type": "stream",
     "text": [
      "Detecting objects: 100%|█████████████████████████████████████████████████████████████| 135/135 [00:49<00:00,  2.73it/s]\n",
      "Computing AP: 100%|█████████████████████████████████████████████████████████████████████| 1/1 [00:00<00:00, 494.49it/s]\n"
     ]
    },
    {
     "name": "stdout",
     "output_type": "stream",
     "text": [
      "Average Precisions:\n",
      "+ Class '0' (cars) - AP: 0.013493712067083783\n",
      "mAP: 0.013493712067083783\n",
      "precision: 0.11758241758241758\n",
      "recall: 0.11395101171458999 \n",
      "55\n",
      "Compute mAP...\n"
     ]
    },
    {
     "name": "stderr",
     "output_type": "stream",
     "text": [
      "Detecting objects: 100%|█████████████████████████████████████████████████████████████| 135/135 [00:49<00:00,  2.72it/s]\n",
      "Computing AP: 100%|█████████████████████████████████████████████████████████████████████| 1/1 [00:00<00:00, 333.12it/s]\n"
     ]
    },
    {
     "name": "stdout",
     "output_type": "stream",
     "text": [
      "Average Precisions:\n",
      "+ Class '0' (cars) - AP: 0.007816095391419493\n",
      "mAP: 0.007816095391419493\n",
      "precision: 0.07513555383423702\n",
      "recall: 0.1033013844515442 \n",
      "56\n",
      "Compute mAP...\n"
     ]
    },
    {
     "name": "stderr",
     "output_type": "stream",
     "text": [
      "Detecting objects: 100%|█████████████████████████████████████████████████████████████| 135/135 [00:51<00:00,  2.64it/s]\n",
      "Computing AP: 100%|█████████████████████████████████████████████████████████████████████| 1/1 [00:00<00:00, 100.02it/s]\n"
     ]
    },
    {
     "name": "stdout",
     "output_type": "stream",
     "text": [
      "Average Precisions:\n",
      "+ Class '0' (cars) - AP: 0.009394723410683075\n",
      "mAP: 0.009394723410683075\n",
      "precision: 0.04445579969340828\n",
      "recall: 0.1853035143769968 \n",
      "57\n",
      "Compute mAP...\n"
     ]
    },
    {
     "name": "stderr",
     "output_type": "stream",
     "text": [
      "Detecting objects: 100%|█████████████████████████████████████████████████████████████| 135/135 [00:49<00:00,  2.73it/s]\n",
      "Computing AP: 100%|█████████████████████████████████████████████████████████████████████| 1/1 [00:00<00:00, 333.41it/s]\n"
     ]
    },
    {
     "name": "stdout",
     "output_type": "stream",
     "text": [
      "Average Precisions:\n",
      "+ Class '0' (cars) - AP: 0.005470334566870561\n",
      "mAP: 0.005470334566870561\n",
      "precision: 0.07017543859649122\n",
      "recall: 0.07667731629392971 \n",
      "58\n",
      "Compute mAP...\n"
     ]
    },
    {
     "name": "stderr",
     "output_type": "stream",
     "text": [
      "Detecting objects: 100%|█████████████████████████████████████████████████████████████| 135/135 [00:49<00:00,  2.71it/s]\n",
      "Computing AP: 100%|█████████████████████████████████████████████████████████████████████| 1/1 [00:00<00:00, 166.70it/s]\n"
     ]
    },
    {
     "name": "stdout",
     "output_type": "stream",
     "text": [
      "Average Precisions:\n",
      "+ Class '0' (cars) - AP: 0.028299613150613485\n",
      "mAP: 0.028299613150613485\n",
      "precision: 0.11515480717001629\n",
      "recall: 0.22577209797657083 \n",
      "59\n",
      "Compute mAP...\n"
     ]
    },
    {
     "name": "stderr",
     "output_type": "stream",
     "text": [
      "Detecting objects: 100%|█████████████████████████████████████████████████████████████| 135/135 [00:51<00:00,  2.63it/s]\n",
      "Computing AP: 100%|██████████████████████████████████████████████████████████████████████| 1/1 [00:00<00:00, 99.92it/s]\n"
     ]
    },
    {
     "name": "stdout",
     "output_type": "stream",
     "text": [
      "Average Precisions:\n",
      "+ Class '0' (cars) - AP: 0.014571844533193408\n",
      "mAP: 0.014571844533193408\n",
      "precision: 0.05649988029686378\n",
      "recall: 0.25133120340788073 \n",
      "60\n",
      "Compute mAP...\n"
     ]
    },
    {
     "name": "stderr",
     "output_type": "stream",
     "text": [
      "Detecting objects: 100%|█████████████████████████████████████████████████████████████| 135/135 [00:50<00:00,  2.69it/s]\n",
      "Computing AP: 100%|█████████████████████████████████████████████████████████████████████| 1/1 [00:00<00:00, 199.95it/s]\n"
     ]
    },
    {
     "name": "stdout",
     "output_type": "stream",
     "text": [
      "Average Precisions:\n",
      "+ Class '0' (cars) - AP: 0.016498338740348402\n",
      "mAP: 0.016498338740348402\n",
      "precision: 0.0843941537010844\n",
      "recall: 0.1906283280085197 \n",
      "61\n",
      "Compute mAP...\n"
     ]
    },
    {
     "name": "stderr",
     "output_type": "stream",
     "text": [
      "Detecting objects: 100%|█████████████████████████████████████████████████████████████| 135/135 [00:50<00:00,  2.67it/s]\n",
      "Computing AP: 100%|█████████████████████████████████████████████████████████████████████| 1/1 [00:00<00:00, 142.88it/s]\n"
     ]
    },
    {
     "name": "stdout",
     "output_type": "stream",
     "text": [
      "Average Precisions:\n",
      "+ Class '0' (cars) - AP: 0.01527758758093486\n",
      "mAP: 0.01527758758093486\n",
      "precision: 0.07443491816056118\n",
      "recall: 0.20340788072417465 \n",
      "62\n",
      "Compute mAP...\n"
     ]
    },
    {
     "name": "stderr",
     "output_type": "stream",
     "text": [
      "Detecting objects:   7%|████▌                                                         | 10/135 [00:04<00:51,  2.42it/s]"
     ]
    }
   ],
   "source": [
    "from __future__ import division\n",
    "\n",
    "from models import *\n",
    "from utils.utils import *\n",
    "from utils.datasets import *\n",
    "from utils.parse_config import *\n",
    "\n",
    "import os\n",
    "import sys\n",
    "import time\n",
    "import datetime\n",
    "import argparse\n",
    "import tqdm\n",
    "import easydict\n",
    "\n",
    "import torch\n",
    "from torch.utils.data import DataLoader\n",
    "from torchvision import datasets\n",
    "from torchvision import transforms\n",
    "from torch.autograd import Variable\n",
    "import torch.optim as optim\n",
    "import pandas as pd\n",
    "\n",
    "\n",
    "def evaluate(model, path, iou_thres, conf_thres, nms_thres, img_size, batch_size):\n",
    "    model.eval()\n",
    "\n",
    "    # Get dataloader\n",
    "    dataset = ListDataset(path, img_size=img_size, augment=False, multiscale=False)\n",
    "    dataloader = torch.utils.data.DataLoader(\n",
    "        dataset, batch_size=batch_size, shuffle=False, num_workers=1, collate_fn=dataset.collate_fn\n",
    "    )\n",
    "\n",
    "    Tensor = torch.cuda.FloatTensor if torch.cuda.is_available() else torch.FloatTensor\n",
    "\n",
    "    labels = []\n",
    "    sample_metrics = []  # List of tuples (TP, confs, pred)\n",
    "    for batch_i, (_, imgs, targets) in enumerate(tqdm.tqdm(dataloader, desc=\"Detecting objects\")):\n",
    "\n",
    "        # Extract labels\n",
    "        labels += targets[:, 1].tolist()\n",
    "        # Rescale target\n",
    "        targets[:, 2:] = xywh2xyxy(targets[:, 2:])\n",
    "        targets[:, 2:] *= img_size\n",
    "\n",
    "        imgs = Variable(imgs.type(Tensor), requires_grad=False)\n",
    "\n",
    "        with torch.no_grad():\n",
    "            outputs = model(imgs)\n",
    "            outputs = non_max_suppression(outputs, conf_thres=conf_thres, nms_thres=nms_thres)\n",
    "\n",
    "        sample_metrics += get_batch_statistics(outputs, targets, iou_threshold=iou_thres)\n",
    "\n",
    "    # Concatenate sample statistics\n",
    "    true_positives, pred_scores, pred_labels = [np.concatenate(x, 0) for x in list(zip(*sample_metrics))]\n",
    "    precision, recall, AP, f1, ap_class = ap_per_class(true_positives, pred_scores, pred_labels, labels)\n",
    "\n",
    "    return precision, recall, AP, f1, ap_class\n",
    "\n",
    "if __name__ == \"__main__\":\n",
    "    parser = argparse.ArgumentParser()\n",
    "    args = parser.parse_args(args=[])\n",
    "    args = easydict.EasyDict({\n",
    "        \"batch_size\": 6,\n",
    "        \"model_def\":r'D:/Ivan/Test_data/IvanMadeDataSet/Yolo_front/config/yolov3_832.cfg',\n",
    "        \"data_config\":r'D:/Ivan/Test_data/IvanMadeDataSet/Yolo_front_test/config/coco.data',\n",
    "        \"weights_path\":r'D:/Ivan/YoloCheckpoints/OID_front_1_832/70.weights',\n",
    "        \"class_path\": r'D:/Ivan/Test_data/IvanMadeDataSet/Yolo_front/config/coco.names',\n",
    "        \"iou_thres\": 0.5,\n",
    "        \"conf_thres\":0.998,\n",
    "        \"nms_thres\": 0.5,\n",
    "        \"n_cpu\": 2,\n",
    "        \"img_size\": 832\n",
    "    })\n",
    "    opt = args\n",
    "    print(opt)\n",
    "    cols = ['weights','recall','precision','AP','f1']\n",
    "   \n",
    "    \n",
    "    path = r'D:/Ivan/YoloCheckpoints/OID_front_1_832/'\n",
    "\n",
    "    device = torch.device(\"cuda\" if torch.cuda.is_available() else \"cpu\")\n",
    "    data_config = parse_data_config(opt.data_config)\n",
    "    valid_path = data_config[\"test\"]\n",
    "    class_names= load_classes(opt.class_path)\n",
    "   \n",
    "    for i in range(40,160):\n",
    "        try:\n",
    "            print(i)\n",
    "            df = pd.DataFrame(columns = cols)\n",
    "             # Initiate model\n",
    "            model = Darknet(opt.model_def).to(device)\n",
    "            weights_path = path+str(i)+'.weights'\n",
    "            if opt.weights_path.endswith(\".weights\"):\n",
    "                # Load darknet weights\n",
    "                model.load_darknet_weights(weights_path)\n",
    "            else:\n",
    "                # Load checkpoint weights\n",
    "                model.load_state_dict(torch.load(weights_path))\n",
    "\n",
    "            print(\"Compute mAP...\")\n",
    "\n",
    "            precision, recall, AP, f1, ap_class = evaluate(\n",
    "                model,\n",
    "                path=valid_path,\n",
    "                iou_thres=opt.iou_thres,\n",
    "                conf_thres=opt.conf_thres,\n",
    "                nms_thres=opt.nms_thres,\n",
    "                img_size=opt.img_size,\n",
    "                batch_size=opt.batch_size,\n",
    "            )\n",
    "            df.loc[i] = [i, recall[0],precision[0], AP.mean(), f1[0]]\n",
    "            print(\"Average Precisions:\")\n",
    "            for i, c in enumerate(ap_class):\n",
    "                print(f\"+ Class '{c}' ({class_names[c]}) - AP: {AP[i]}\")\n",
    "\n",
    "            print(f\"mAP: {AP.mean()}\")\n",
    "            print(f\"precision: {precision.mean()}\")\n",
    "            print(f\"recall: {recall.mean()} \")\n",
    "            df.to_csv( path+'OID_front_1_832_2.csv',mode='a',header= False)\n",
    "            \n",
    "#             model.zero_grad()\n",
    "#             del model\n",
    "        except:\n",
    "            del model\n",
    "            print('unable to test '+ str(i))\n",
    "            pass\n",
    "#     df.to_csv( path+'OID_front_1_832.csv')"
   ]
  },
  {
   "cell_type": "code",
   "execution_count": null,
   "metadata": {},
   "outputs": [],
   "source": []
  }
 ],
 "metadata": {
  "kernelspec": {
   "display_name": "Python 3",
   "language": "python",
   "name": "python3"
  },
  "language_info": {
   "codemirror_mode": {
    "name": "ipython",
    "version": 3
   },
   "file_extension": ".py",
   "mimetype": "text/x-python",
   "name": "python",
   "nbconvert_exporter": "python",
   "pygments_lexer": "ipython3",
   "version": "3.7.7"
  }
 },
 "nbformat": 4,
 "nbformat_minor": 2
}
