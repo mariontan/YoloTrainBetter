{
 "cells": [
  {
   "cell_type": "markdown",
   "metadata": {},
   "source": [
    "# Main tutorials followed\n",
    "\n",
    "## Object tracking\n",
    "https://towardsdatascience.com/object-detection-and-tracking-in-pytorch-b3cf1a696a98\n",
    "\n",
    "## Yolo training\n",
    "https://towardsdatascience.com/training-yolo-for-object-detection-in-pytorch-with-your-custom-dataset-the-simple-way-1aa6f56cf7d9\n",
    "\n",
    "## Main repo used for training\n",
    "https://github.com/mariontan/PyTorch-YOLOv3\n",
    "\n",
    "this one has a better implementation as it does validation on the model some changes are addded _try except_ in test.py and YoloTrain.py so it will procees even if ValueError is encountered\n",
    "\n",
    "# It is absolutely important to leave a new line in coco.names\n",
    "sample file\n",
    "\n",
    "car\n",
    "truck \\n\n",
    "(press enter so a new line will appear or else errors will occur)"
   ]
  },
  {
   "cell_type": "markdown",
   "metadata": {},
   "source": [
    "# Train Test Split\n",
    "\n",
    "This script is for splitting the training data set for training and validation sets\n",
    "\n",
    "Variables to adjust\n",
    "\n",
    "_Yolo_\\__dir_-folder just before the images folder of the data set\n",
    "\n",
    "_split_\\__pct_ - 10 percentage to split the data set"
   ]
  },
  {
   "cell_type": "code",
   "execution_count": 24,
   "metadata": {},
   "outputs": [],
   "source": [
    "# -*- coding: utf-8 -*-\n",
    "\"\"\"\n",
    "Created on Tue Mar 24 16:13:34 2020\n",
    "\n",
    "@author: AIC-WS1\n",
    "\"\"\"\n",
    "\n",
    "import glob\n",
    "import os\n",
    "import numpy as np\n",
    "import sys\n",
    "#current_dir = \"./data/artifacts/images\"\n",
    "#current_dir = r'D:/Ivan/Test_data/YoloV3_Data/Yolo_training/vehicles/images'\n",
    "'''\n",
    "only change this line direct to correct folder before the images folder\n",
    "'''\n",
    "Yolo_dir = r\"D:/Ivan/Test_data/IvanMadeDataSet/Yolo_2_class_car_truck_combined/front\"\n",
    "#Yolo_dir = r\"D:/Ivan/Test_data/IvanMadeDataSet/Yolo_front/front\"\n",
    "\n",
    "current_dir = Yolo_dir+\"/images\"\n",
    "split_pct = 10  # 10% validation set\n",
    "file_train = open(Yolo_dir+\"/train.txt\", \"w\")  \n",
    "file_val = open(Yolo_dir+\"/val.txt\", \"w\")  \n",
    "counter = 1  \n",
    "index_test = round(100 / split_pct)  \n",
    "for fullpath in glob.iglob(os.path.join(current_dir, \"*.JPG\")):  \n",
    "  title, ext = os.path.splitext(os.path.basename(fullpath))\n",
    "  if counter == index_test:\n",
    "    counter = 1\n",
    "    file_val.write(current_dir + \"/\" + title + '.jpg' + \"\\n\")\n",
    "  else:\n",
    "    file_train.write(current_dir + \"/\" + title + '.jpg' + \"\\n\")\n",
    "    counter = counter + 1\n",
    "file_train.close()\n",
    "file_val.close()"
   ]
  },
  {
   "cell_type": "markdown",
   "metadata": {},
   "source": [
    "# Check files if annotated"
   ]
  },
  {
   "cell_type": "code",
   "execution_count": 12,
   "metadata": {},
   "outputs": [],
   "source": [
    "# -*- coding: utf-8 -*-\n",
    "\"\"\"\n",
    "Created on Tue Mar 24 16:13:34 2020\n",
    "\n",
    "@author: AIC-WS1\n",
    "\"\"\"\n",
    "\n",
    "import glob\n",
    "import os\n",
    "import numpy as np\n",
    "import sys\n",
    "from shutil import copyfile\n",
    "#current_dir = \"./data/artifacts/images\"\n",
    "#current_dir = r'D:/Ivan/Test_data/YoloV3_Data/Yolo_training/vehicles/images'\n",
    "'''\n",
    "only change this line direct to correct folder before the images folder\n",
    "'''\n",
    "image_dir = r\"D:\\Ivan\\Test_data\\IvanMadeDataSet\\Yolo_2_class_truck\\organized\\front\"\n",
    "path = r\"D:\\Ivan\\Test_data\\IvanMadeDataSet\\Yolo_2_class_truck\\organized\"\n",
    "files = os.listdir(image_dir)\n",
    "#Yolo_dir = r\"D:/Ivan/Test_data/IvanMadeDataSet/Yolo_front/front\"\n",
    "for file in files:\n",
    "    item = file[:-4]+'.txt'\n",
    "    copyfile(path+'\\yoloV3Labels/'+item, path+'/copiedLabels/'+item)"
   ]
  },
  {
   "cell_type": "code",
   "execution_count": 21,
   "metadata": {},
   "outputs": [],
   "source": [
    "path = r\"D:\\Ivan\\Test_data\\IvanMadeDataSet\\Yolo_2_class_truck\\organized\\yoloV3Labels/\"\n",
    "files = os.listdir(path)\n",
    "\n",
    "for file in files:\n",
    "    with open(path+file[:-4]+'.txt') as f:\n",
    "        lines = f.readlines()\n",
    "        for line in lines:\n",
    "            if(len(line)==0):\n",
    "                print(len(line))"
   ]
  },
  {
   "cell_type": "code",
   "execution_count": 23,
   "metadata": {},
   "outputs": [],
   "source": [
    "import os\n",
    "image_path = r\"D:\\Ivan\\Test_data\\IvanMadeDataSet\\Yolo_2_class_truck\\organized\\front/\"\n",
    "labels_path = r\"D:\\Ivan\\Test_data\\IvanMadeDataSet\\Yolo_2_class_truck\\organized\\yoloV3Labels/\"\n",
    "files = os.listdir(image_path)\n",
    "\n",
    "\n",
    "for index, file in enumerate(files):\n",
    "    os.rename(os.path.join(image_path, file), os.path.join(image_path, ''.join(['trck',str(index), '.jpg'])))\n",
    "    os.rename(os.path.join(labels_path, file[:-4]+'.txt'), os.path.join(labels_path, ''.join(['trck',str(index), '.txt'])))"
   ]
  },
  {
   "cell_type": "markdown",
   "metadata": {},
   "source": [
    "# Getting the area per image\n",
    "\n",
    "generates a histogram of the distributions\n",
    "\n",
    "variables to change\n",
    "\n",
    "_path_ - path of the pictures folder\n",
    "\n",
    "tip change the if statements to get a clearer picture of the distribution"
   ]
  },
  {
   "cell_type": "code",
   "execution_count": null,
   "metadata": {
    "collapsed": true
   },
   "outputs": [],
   "source": [
    "import os"
   ]
  },
  {
   "cell_type": "code",
   "execution_count": 19,
   "metadata": {},
   "outputs": [
    {
     "data": {
      "image/png": "[encoded data removed]",
      "text/plain": [
       "<Figure size 720x576 with 1 Axes>"
      ]
     },
     "metadata": {
      "needs_background": "light"
     },
     "output_type": "display_data"
    },
    {
     "name": "stdout",
     "output_type": "stream",
     "text": [
      "mean: 228139.51053639848\n",
      "min: 22500\n",
      "max: 1048576\n",
      "length:  4176\n",
      "[2464.  589.  201.    7.    8.   76.  431.  337.   38.   25.]\n",
      "[  22500.   125107.6  227715.2  330322.8  432930.4  535538.   638145.6\n",
      "  740753.2  843360.8  945968.4 1048576. ]\n"
     ]
    }
   ],
   "source": [
    "# -*- coding: utf-8 -*-\n",
    "\"\"\"\n",
    "Created on Tue Mar 17 10:27:20 2020\n",
    "\n",
    "@author: AIC-WS1\n",
    "\"\"\"\n",
    "\n",
    "#!/usr/bin/python\n",
    "from PIL import Image\n",
    "import matplotlib.pyplot as plt\n",
    "import numpy as np\n",
    "import os\n",
    "\n",
    "path=r'D:\\Ivan\\Test_data\\IvanMadeDataSet\\Yolo_front_new_cleaner\\front\\images/'\n",
    "dirs = os.listdir(path)\n",
    "\n",
    "areaArr = []\n",
    "area1 = []\n",
    "area2 = []\n",
    "area3 = []\n",
    "area4 = []\n",
    "area5 = []\n",
    "\n",
    "\n",
    "def pixelPerImage():\n",
    "    for item in dirs:\n",
    "        if os.path.isfile(path+item):\n",
    "#            print(item)\n",
    "            im = Image.open(path+item)\n",
    "            \n",
    "            width, height = im.size\n",
    "            area = width*height\n",
    "            areaArr.append(area)\n",
    "#            if(area<75000):\n",
    "#                area1.append(area)\n",
    "#            elif(area>=780000 and area<=789000):\n",
    "#                area2.append(area)\n",
    "#            elif(area>=75000 and area<=158000):\n",
    "#                area3.append(area)\n",
    "#            elif(area>=158000 and area<=300000):    \n",
    "#                area4.append(area)\n",
    "            if(area<=250000):\n",
    "                area5.append(area)\n",
    "#            else:\n",
    "#                areaGreater100K.append(area)\n",
    "pixelPerImage()\n",
    "\n",
    "selectedArr =  np.array(areaArr)\n",
    "fig=plt.figure(figsize=(10,8))\n",
    "ax = fig.add_subplot(111)\n",
    "ax.ticklabel_format(useOffset=False, style='plain')\n",
    "y, x, _ = plt.hist(selectedArr)\n",
    "\n",
    "ax.annotate(y.max(), xy=(x[8], y.max()), xytext=(x[8], y.max()),\n",
    "            arrowprops=dict(facecolor='black', shrink=0.05), fontsize=20\n",
    "            )\n",
    "label2=y[1]\n",
    "ax.annotate(label2, xy=(x[1], label2), xytext=(x[1], label2),\n",
    "            arrowprops=dict(facecolor='black', shrink=0.05),fontsize=20\n",
    "            )\n",
    "label3=y[0]\n",
    "ax.annotate(label3, xy=(x[0], label3), xytext=(x[0] , label3),\n",
    "            arrowprops=dict(facecolor='black', shrink=0.05),fontsize=20\n",
    "            )\n",
    "plt.xlabel('width X height',fontsize=18)\n",
    "plt.ylabel('Picture count',fontsize=18)\n",
    "plt.show()\n",
    "print('mean:',selectedArr.mean())\n",
    "print('min:',selectedArr.min())\n",
    "print('max:',selectedArr.max())\n",
    "print('length: ',len(selectedArr))\n",
    "\n",
    "print(y)\n",
    "print(x)"
   ]
  },
  {
   "cell_type": "markdown",
   "metadata": {},
   "source": [
    "# Rename Files\n",
    "\n",
    "for batch renaming of files\n",
    "\n",
    "Variables to Change\n",
    "\n",
    "_path_ - path of the pictures folder or text folder"
   ]
  },
  {
   "cell_type": "code",
   "execution_count": null,
   "metadata": {
    "collapsed": true
   },
   "outputs": [],
   "source": [
    "import os\n",
    "path = r'D:\\Ivan\\Test_data\\IvanMadeDataSet\\Yolo_Cars_Front_SlightSide_View\\train\\1'\n",
    "files = os.listdir(path)\n",
    "\n",
    "\n",
    "for index, file in enumerate(files):\n",
    "    os.rename(os.path.join(path, file), os.path.join(path, ''.join(['car',str(index), '.jpg'])))"
   ]
  },
  {
   "cell_type": "markdown",
   "metadata": {},
   "source": [
    "# Converting YoloV3 labels to VOC labels\n",
    "\n",
    "scripts used for data augmentation. to make YoloV3 data set comapatible with \n",
    "https://github.com/mariontan/DataAugmentationForObjectDetection\n",
    "\n",
    "from YoloV3 label to VOC label \n",
    "\n",
    "YOLOv3 annotation format https://medium.com/@vinay.dec26/yat-an-open-source-data-annotation-tool-for-yolo-8bb75bce1767 \n",
    "\n",
    "https://github.com/mariontan/OIDv4_ToolKit for label format of this repo\n",
    "\n",
    "Variables to change\n",
    "\n",
    "_path_ - folder just before the image and label folder"
   ]
  },
  {
   "cell_type": "code",
   "execution_count": null,
   "metadata": {
    "collapsed": true
   },
   "outputs": [],
   "source": [
    "# -*- coding: utf-8 -*-\n",
    "\"\"\"\n",
    "Created on Thu Apr 23 09:34:22 2020\n",
    "\n",
    "@author: AIC-WS1\n",
    "\"\"\"\n",
    "\n",
    "import os\n",
    "import numpy as np\n",
    "import cv2 \n",
    "\n",
    "path = r'D:\\Ivan\\Test_data\\IvanMadeDataSet\\OID_Truck_Data_Augmentation/'\n",
    "path_label = path + 'label/'\n",
    "path_image = path + 'image/'\n",
    "files = os.listdir(path_label)\n",
    "\n",
    "def convertYolov3Label(path_image,path_label,file,folder):\n",
    "    img = cv2.imread(path_image+file[:-4]+'.jpg')[:,:,::-1]\n",
    "    Y, X, _ = img.shape\n",
    "    label = np.array([[0,0,0,0,0]])\n",
    "    with open(path_label+file[:-4]+'.txt') as f:\n",
    "        lines = f.readlines()\n",
    "        for line in lines:\n",
    "                line = line[:-2].split(' ')\n",
    "                x_1 = (float(line[1])*X)-((float(line[3])*X)/2)\n",
    "                y_1 = (float(line[2])*Y)-((float(line[4])*Y)/2)\n",
    "                x_2 = (float(line[1])*X)+((float(line[3])*X)/2)\n",
    "                y_2 = (float(line[2])*Y)+((float(line[4])*Y)/2)\n",
    "                cls = 1\n",
    "                label = np.append(label,[[x_1,y_1,x_2,y_2,cls]],axis = 0)\n",
    "    np.savetxt(folder+file[:-4]+'.txt',label[1:], delimiter=' ', fmt='%f')\n",
    "    \n",
    "folder = path+'convertedYolov3Label/'\n",
    "if not os.path.exists(folder):\n",
    "    os.mkdir(folder)\n",
    "for file in files:\n",
    "    convertYolov3Label(path_image,path_label,file,folder)"
   ]
  },
  {
   "cell_type": "markdown",
   "metadata": {},
   "source": [
    "# Move label to end\n",
    "\n",
    "scripts used for data augmentation. to make YoloV3 data set comapatible with \n",
    "https://github.com/mariontan/DataAugmentationForObjectDetection\n",
    "\n",
    "after _convertYolov3Label_ is run\n",
    "Variables to change\n",
    "\n",
    "_path_ - folder just before the image and label folder"
   ]
  },
  {
   "cell_type": "code",
   "execution_count": null,
   "metadata": {
    "collapsed": true
   },
   "outputs": [],
   "source": [
    "import os\n",
    "\n",
    "path = r'D:\\Ivan\\Test_data\\IvanMadeDataSet\\OID_Truck_Data_Augmentation/'\n",
    "path_label = path + 'label/'\n",
    "path_image = path + 'image/'\n",
    "files = os.listdir(path_label)\n",
    "\n",
    "\n",
    "for file in files:\n",
    "    labels = []\n",
    "    with open(path_label+file) as f:\n",
    "        lines = f.readlines()\n",
    "    for line in lines:\n",
    "        label = line.replace('Truck ','')\n",
    "        labels.append(label[:-2]+ ' 1\\n')\n",
    "    print(labels)\n",
    "    with open(path_label+file, \"w\") as f:\n",
    "        f.writelines(\"\".join(labels))\n",
    "    f.close()\n"
   ]
  },
  {
   "cell_type": "markdown",
   "metadata": {},
   "source": [
    "# Write label to start\n",
    "\n",
    "after data augmentation is ran move labels back to start so _convert\\_annotaions.py_ will work see repo: https://github.com/mariontan/OIDv4_ToolKit\n",
    "\n",
    "variables to change:\n",
    "\n",
    "_path_ = folder just before the image and label folder"
   ]
  },
  {
   "cell_type": "code",
   "execution_count": null,
   "metadata": {
    "collapsed": true
   },
   "outputs": [],
   "source": [
    "# -*- coding: utf-8 -*-\n",
    "\"\"\"\n",
    "Created on Wed Apr 22 11:14:09 2020\n",
    "\n",
    "@author: AIC-WS1\n",
    "\"\"\"\n",
    "\n",
    "import os\n",
    "\n",
    "path = r'D:\\Ivan\\Developer\\OIDv4_ToolKit-master\\OID\\Dataset\\train\\Truck\\Label/'\n",
    "files = os.listdir(path)\n",
    "\n",
    "\n",
    "for file in files:\n",
    "    labels = []\n",
    "    with open(path+file) as f:\n",
    "        lines = f.readlines()\n",
    "    for line in lines:\n",
    "        label = line.replace(' 0.000000','')\n",
    "        labels.append('0 '+label)\n",
    "        print('0 '+label)\n",
    "    with open(path+file, \"w\") as f:\n",
    "        f.writelines(\"\".join(labels))\n",
    "    f.close()\n"
   ]
  },
  {
   "cell_type": "markdown",
   "metadata": {},
   "source": [
    "# Count number of annotation for entire dataset\n",
    "\n",
    "counts the number of annotations per image"
   ]
  },
  {
   "cell_type": "code",
   "execution_count": 1,
   "metadata": {},
   "outputs": [
    {
     "name": "stdout",
     "output_type": "stream",
     "text": [
      "5955\n"
     ]
    }
   ],
   "source": [
    "import os\n",
    "#2080 trucks pictures so far July 23, 2020\n",
    "path = r'D:\\Ivan\\Test_data\\IvanMadeDataSet\\Yolo_front_truck_car_oneclass\\front\\labels/'\n",
    "files = os.listdir(path)\n",
    "\n",
    "cnt = 0 \n",
    "for file in files:\n",
    "    labels = []\n",
    "    with open(path+file) as f:\n",
    "        lines = f.readlines()\n",
    "    for line in lines:\n",
    "        cnt = cnt +1\n",
    "    f.close()\n",
    "print(cnt)"
   ]
  },
  {
   "cell_type": "markdown",
   "metadata": {},
   "source": [
    "# Transfering files\n",
    "Use this if you want to trasfer pics that have been cleaned already.\n",
    "Ex. Researcher A asks Reasercher B to annotate a set of picture. But the annotation of pictures takes weeks. To speed up data cleaning Researcher A can ask for the already annotated dataset and start cleaning. This script is used by researcher A to transfer pic he is done cleaning\n"
   ]
  },
  {
   "cell_type": "code",
   "execution_count": null,
   "metadata": {
    "collapsed": true
   },
   "outputs": [],
   "source": [
    "# -*- coding: utf-8 -*-\n",
    "\"\"\"\n",
    "Created on Tue Mar 31 13:39:34 2020\n",
    "@author: AIC-WS1\n",
    "\"\"\"\n",
    "\n",
    "import os\n",
    "from shutil import copyfile\n",
    "\n",
    "\n",
    "path = r'D:\\Project_Fiber_2019\\Picam_MachineLearning\\DataSet\\Katipunan\\front-complete\\front'\n",
    "labels_folder = r'D:\\Project_Fiber_2019\\Picam_MachineLearning\\DataSet\\Katipunan\\front-40%done\\forboxing\\1_Copy'\n",
    "image_folder = r'D:\\Project_Fiber_2019\\Picam_MachineLearning\\DataSet\\Katipunan\\front-complete\\alreadyChecked' \n",
    "\n",
    "#files = os.listdir(path)\n",
    "original_files = os.listdir(labels_folder)\n",
    "\n",
    "for index, file in enumerate(original_files):\n",
    "    filename = (path+'/'+file)[:-4]+'.jpg'\n",
    "    labelName = (path+'\\yoloV3Labels/'+file)[:-4]+'.txt'\n",
    "    try:\n",
    "        if os.path.isfile(filename):\n",
    "            copyfile(filename, os.path.join(image_folder ,file[:-4]+'.jpg'))\n",
    "#             os.rename(filename, os.path.join(image_folder ,file[:-4]+'.jpg'))\n",
    "        if os.path.isfile(labelName):\n",
    "            copyfile(labelName, os.path.join(image_folder+'\\labels' ,file[:-4]+'.txt'))\n",
    "#             os.rename(labelName, os.path.join(image_folder+'\\labels' ,file[:-4]+'.txt'))\n",
    "    except:\n",
    "        print('can not trasfer',file)\n",
    "        \n",
    "#os.rename(os.path.join(path, file), os.path.join(path, ''.join(['car',str(index), '.jpg'])))"
   ]
  },
  {
   "cell_type": "markdown",
   "metadata": {},
   "source": [
    "# Convert from HEIC\n"
   ]
  },
  {
   "cell_type": "code",
   "execution_count": 4,
   "metadata": {},
   "outputs": [],
   "source": [
    "# -*- coding: utf-8 -*-\n",
    "\"\"\"\n",
    "Created on Tue Mar 17 10:27:20 2020\n",
    "\n",
    "@author: AIC-WS1\n",
    "\"\"\"\n",
    "\n",
    "#!/usr/bin/python\n",
    "from PIL import Image\n",
    "import os, sys\n",
    "from shutil import copyfile\n",
    "\n",
    "path = r\"D:\\Ivan\\Test_data\\IvanMadeDataSet\\Yolo_2_class_truck\\organized\\front/\"\n",
    "#path = r\"D:/Ivan/Test_data/IvanMadeDataSet/Stanford_AI_cars_modified/test/buses/\"\n",
    "dirs = os.listdir( path )\n",
    "if not os.path.exists(path+'heicPics'):\n",
    "    os.mkdir(path+'heicPics')\n",
    "\n",
    "if not os.path.exists(path+'resized/'):\n",
    "    os.mkdir(path+'resized/')\n",
    "#aspect ratio width:height\n",
    "def resize():\n",
    "    for item in dirs:\n",
    "        try:\n",
    "            if os.path.isfile(path+item):\n",
    "                x=item\n",
    "#                 im = Image.open(path+item)\n",
    "                \n",
    "#                 width, height = im.size\n",
    "#                 if width > 600 or height > 600:\n",
    "#                     aspectRatio = width/height\n",
    "#                     width = 600\n",
    "#                     height = int(width/aspectRatio)\n",
    "                \n",
    "#                 f, e = os.path.splitext(path+'resized/'+item)\n",
    "#                 imResize = im.resize((width,height), Image.ANTIALIAS).convert('RGB')\n",
    "#                 imResize.save(f + '.jpg', 'JPEG', quality=90)\n",
    "        except OSError:\n",
    "            print(item)\n",
    "            copyfile(path+item, path+'heicPics/'+item)\n",
    "\n",
    "resize()\n",
    "\n"
   ]
  },
  {
   "cell_type": "code",
   "execution_count": null,
   "metadata": {},
   "outputs": [],
   "source": []
  }
 ],
 "metadata": {
  "kernelspec": {
   "display_name": "Python 3",
   "language": "python",
   "name": "python3"
  },
  "language_info": {
   "codemirror_mode": {
    "name": "ipython",
    "version": 3
   },
   "file_extension": ".py",
   "mimetype": "text/x-python",
   "name": "python",
   "nbconvert_exporter": "python",
   "pygments_lexer": "ipython3",
   "version": "3.7.9"
  }
 },
 "nbformat": 4,
 "nbformat_minor": 2
}
