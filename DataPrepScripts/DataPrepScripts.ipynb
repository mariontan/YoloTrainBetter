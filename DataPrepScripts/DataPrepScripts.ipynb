{
 "cells": [
  {
   "cell_type": "markdown",
   "metadata": {},
   "source": [
    "# Train Test Split\n",
    "\n",
    "This script is for splitting the training data set for training and validation sets\n",
    "\n",
    "Variables to adjust\n",
    "\n",
    "_Yolo_\\__dir_-folder just before the images folder of the data set\n",
    "\n",
    "_split_\\_pct\\_ - 10 percentage to split the data set"
   ]
  },
  {
   "cell_type": "code",
   "execution_count": null,
   "metadata": {},
   "outputs": [],
   "source": [
    "# -*- coding: utf-8 -*-\n",
    "\"\"\"\n",
    "Created on Tue Mar 24 16:13:34 2020\n",
    "\n",
    "@author: AIC-WS1\n",
    "\"\"\"\n",
    "\n",
    "import glob\n",
    "import os\n",
    "import numpy as np\n",
    "import sys\n",
    "#current_dir = \"./data/artifacts/images\"\n",
    "#current_dir = r'D:/Ivan/Test_data/YoloV3_Data/Yolo_training/vehicles/images'\n",
    "'''\n",
    "only change this line direct to correct folder before the images folder\n",
    "'''\n",
    "Yolo_dir = r\"D:\\Ivan\\Test_data\\IvanMadeDataSet\\Yolo_front_new_cleaner\\front\"\n",
    "#Yolo_dir = r\"D:/Ivan/Test_data/IvanMadeDataSet/Yolo_front/front\"\n",
    "\n",
    "current_dir = Yolo_dir+\"/images\"\n",
    "split_pct = 10  # 10% validation set\n",
    "file_train = open(Yolo_dir+\"/train.txt\", \"w\")  \n",
    "file_val = open(Yolo_dir+\"/val.txt\", \"w\")  \n",
    "counter = 1  \n",
    "index_test = round(100 / split_pct)  \n",
    "for fullpath in glob.iglob(os.path.join(current_dir, \"*.JPG\")):  \n",
    "  title, ext = os.path.splitext(os.path.basename(fullpath))\n",
    "  if counter == index_test:\n",
    "    counter = 1\n",
    "    file_val.write(current_dir + \"/\" + title + '.jpg' + \"\\n\")\n",
    "  else:\n",
    "    file_train.write(current_dir + \"/\" + title + '.jpg' + \"\\n\")\n",
    "    counter = counter + 1\n",
    "file_train.close()\n",
    "file_val.close()"
   ]
  },
  {
   "cell_type": "markdown",
   "metadata": {},
   "source": [
    "# Getting the area per image\n",
    "\n",
    "generates a histogram of the distributions\n",
    "\n",
    "variables to change\n",
    "path - path of the pictures folder\n",
    "\n",
    "tip change the if statements to get a clearer picture of the distribution"
   ]
  },
  {
   "cell_type": "code",
   "execution_count": null,
   "metadata": {},
   "outputs": [],
   "source": [
    "# -*- coding: utf-8 -*-\n",
    "\"\"\"\n",
    "Created on Tue Mar 17 10:27:20 2020\n",
    "\n",
    "@author: AIC-WS1\n",
    "\"\"\"\n",
    "\n",
    "#!/usr/bin/python\n",
    "from PIL import Image\n",
    "import matplotlib.pyplot as plt\n",
    "import numpy as np\n",
    "import os\n",
    "\n",
    "path=r'D:\\Ivan\\Test_data\\IvanMadeDataSet\\Yolo_front\\front\\images/'\n",
    "dirs = os.listdir( path )\n",
    "\n",
    "areaArr = []\n",
    "area1 = []\n",
    "area2 = []\n",
    "area3 = []\n",
    "area4 = []\n",
    "area5 = []\n",
    "\n",
    "\n",
    "def pixelPerImage():\n",
    "    for item in dirs:\n",
    "        if os.path.isfile(path+item):\n",
    "#            print(item)\n",
    "            im = Image.open(path+item)\n",
    "            \n",
    "            width, height = im.size\n",
    "            area = width*height\n",
    "            areaArr.append(area)\n",
    "#            if(area<75000):\n",
    "#                area1.append(area)\n",
    "#            elif(area>=780000 and area<=789000):\n",
    "#                area2.append(area)\n",
    "#            elif(area>=75000 and area<=158000):\n",
    "#                area3.append(area)\n",
    "#            elif(area>=158000 and area<=300000):    \n",
    "#                area4.append(area)\n",
    "            if(area<=250000):\n",
    "                area5.append(area)\n",
    "#            else:\n",
    "#                areaGreater100K.append(area)\n",
    "pixelPerImage()\n",
    "\n",
    "selectedArr =  np.array(are5)\n",
    "plt.hist(selectedArr)\n",
    "plt.show()\n",
    "print('mean:',selectedArr.mean())\n",
    "print('min:',selectedArr.min())\n",
    "print('max:',selectedArr.max())\n",
    "print('length: ',len(selectedArr))\n",
    "\n"
   ]
  },
  {
   "cell_type": "markdown",
   "metadata": {},
   "source": [
    "# Rename Files\n",
    "\n",
    "for batch renaming of files\n",
    "\n",
    "Variables to Change\n",
    "path- path of the pictures folder or text folder"
   ]
  },
  {
   "cell_type": "code",
   "execution_count": null,
   "metadata": {},
   "outputs": [],
   "source": [
    "import os\n",
    "path = r'D:\\Ivan\\Test_data\\IvanMadeDataSet\\Yolo_Cars_Front_SlightSide_View\\train\\1'\n",
    "files = os.listdir(path)\n",
    "\n",
    "\n",
    "for index, file in enumerate(files):\n",
    "    os.rename(os.path.join(path, file), os.path.join(path, ''.join(['car',str(index), '.jpg'])))"
   ]
  }
 ],
 "metadata": {
  "kernelspec": {
   "display_name": "Python 3",
   "language": "python",
   "name": "python3"
  },
  "language_info": {
   "codemirror_mode": {
    "name": "ipython",
    "version": 3
   },
   "file_extension": ".py",
   "mimetype": "text/x-python",
   "name": "python",
   "nbconvert_exporter": "python",
   "pygments_lexer": "ipython3",
   "version": "3.7.2"
  }
 },
 "nbformat": 4,
 "nbformat_minor": 2
}
