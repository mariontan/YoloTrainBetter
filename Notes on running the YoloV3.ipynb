{
 "cells": [
  {
   "cell_type": "markdown",
   "metadata": {},
   "source": [
    "# Training Yolo on you custom data set\n",
    "\n",
    "## 0) Gather pictures or annotated pictures of your desired objects to detect \n",
    "\n",
    "## 1) Check/Annotate the data with Annotator_Segregator_Yolo_multiline.py\n",
    "To indicate the correct the folder of your annotations change self.imageDir and self.outDir anf self.imgclass. \n",
    "\n",
    "Also in sortPics.py chanange /1 to the current class you want to annotate\n",
    "\n",
    "imageFolder = './forboxing/1/'\n",
    "\n",
    "labelsFolder = './newlabels/1/'\n",
    "\n",
    "note you must start from class 0 to train if you start at 1 training script will throw an error\n",
    "## 2) Run  Train_test_split.py\n",
    "this is to generate the train.txt and val.txt files that contain the validation and training split\n",
    "\n",
    "## 3) Arrange the files accordingly\n",
    "Main Folder <br>\n",
    "--- data<br>\n",
    "&nbsp;&nbsp;-- dataset name <br>\n",
    "&nbsp;&nbsp;&nbsp;--- images <br>\n",
    "&nbsp;&nbsp;&nbsp;&nbsp;--- img1.jpg <br>\n",
    "&nbsp;&nbsp;&nbsp;&nbsp;--- img2.jpg <br>\n",
    "            .......... <br>\n",
    "&nbsp;&nbsp;&nbsp;--- labels <br>\n",
    "&nbsp;&nbsp;&nbsp;&nbsp;--- img1.txt <br>\n",
    "&nbsp;&nbsp;&nbsp;&nbsp;--- img2.txt <br>\n",
    "            .......... <br>\n",
    "&nbsp;&nbsp;&nbsp;--- train.txt <br>\n",
    "&nbsp;&nbsp;&nbsp;--- val.txt <br>\n",
    "\n",
    "\n",
    "## 4) Run YoloTrain.py in the terminal\n",
    "check the dictionary and change values accordingly to the correct values\n"
   ]
  },
  {
   "cell_type": "code",
   "execution_count": null,
   "metadata": {},
   "outputs": [],
   "source": []
  }
 ],
 "metadata": {
  "kernelspec": {
   "display_name": "Python 3",
   "language": "python",
   "name": "python3"
  },
  "language_info": {
   "codemirror_mode": {
    "name": "ipython",
    "version": 3
   },
   "file_extension": ".py",
   "mimetype": "text/x-python",
   "name": "python",
   "nbconvert_exporter": "python",
   "pygments_lexer": "ipython3",
   "version": "3.7.2"
  }
 },
 "nbformat": 4,
 "nbformat_minor": 2
}
